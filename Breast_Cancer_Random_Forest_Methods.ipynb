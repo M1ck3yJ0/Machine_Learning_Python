{
  "nbformat": 4,
  "nbformat_minor": 0,
  "metadata": {
    "colab": {
      "provenance": []
    },
    "kernelspec": {
      "name": "python3",
      "display_name": "Python 3"
    },
    "language_info": {
      "name": "python"
    }
  },
  "cells": [
    {
      "cell_type": "markdown",
      "source": [
        "##0. Data Preparation"
      ],
      "metadata": {
        "id": "vEgJTXxYGjCD"
      }
    },
    {
      "cell_type": "code",
      "execution_count": 5,
      "metadata": {
        "id": "m_jwcKBY3qdO"
      },
      "outputs": [],
      "source": [
        "from pandas import read_csv,DataFrame,get_dummies,Series\n",
        "from sklearn.preprocessing import StandardScaler\n",
        "from sklearn.model_selection import train_test_split\n",
        "from imblearn.over_sampling import SMOTE\n",
        "data1=read_csv('/content/Breast_Cancer.csv')\n",
        "data1['Status']=data1['Status'].map({'Alive':1,'Dead':0})\n",
        "data1['A Stage']=data1['A Stage'].map({'Regional':1,'Distant':0})\n",
        "data1['Estrogen Status']=data1['Estrogen Status'].map({'Positive':1,'Negative':0})\n",
        "data1['Progesterone Status']=data1['Progesterone Status'].map({'Positive':1,'Negative':0})\n",
        "data2=get_dummies(data1,['Race','Marital Status','T Stage','N Stage','6th Stage','differentiate','Grade'],dtype=int)\n",
        "x=data2.drop('Status', axis=1)\n",
        "y=data2['Status']\n",
        "x_scaled=StandardScaler().fit_transform(x)\n",
        "x_train,x_test,y_train,y_test=train_test_split(x_scaled, y, test_size=0.20, random_state=100)\n",
        "x_train,y_train=SMOTE().fit_resample(x_train,y_train)"
      ]
    },
    {
      "cell_type": "markdown",
      "source": [
        "##1. Regular method + Evaluation"
      ],
      "metadata": {
        "id": "dJJ9Q-mXFQvZ"
      }
    },
    {
      "cell_type": "code",
      "source": [
        "from sklearn import ensemble\n",
        "RF_classifier1 =ensemble.RandomForestClassifier(n_estimators=50, criterion='entropy', max_features='sqrt', random_state=1)\n",
        "RF_classifier1.fit(x_train,y_train)\n",
        "y_pred1=RF_classifier1.predict(x_test)"
      ],
      "metadata": {
        "id": "41tG49pJ5BYl"
      },
      "execution_count": 6,
      "outputs": []
    },
    {
      "cell_type": "code",
      "source": [
        "from sklearn import metrics\n",
        "recall = metrics.recall_score(y_test, y_pred1)\n",
        "print (recall)"
      ],
      "metadata": {
        "colab": {
          "base_uri": "https://localhost:8080/"
        },
        "id": "LsZ-4CgI5XpT",
        "outputId": "0666982c-dcdd-4926-f843-b2f1df9a49b4"
      },
      "execution_count": 7,
      "outputs": [
        {
          "output_type": "stream",
          "name": "stdout",
          "text": [
            "0.9271137026239067\n"
          ]
        }
      ]
    },
    {
      "cell_type": "markdown",
      "source": [
        "##2. GridSearchCV Method"
      ],
      "metadata": {
        "id": "GWQomqfkFiyg"
      }
    },
    {
      "cell_type": "code",
      "source": [
        "# Random Forest Classifier (method 2)\n",
        "from sklearn.model_selection import GridSearchCV\n",
        "RF_classifier2 = ensemble.RandomForestClassifier(criterion='entropy', max_features='sqrt', random_state=100)\n",
        "no_trees = {'n_estimators': [545, 550, 560, 575]}\n",
        "grid_search1 = GridSearchCV(estimator=RF_classifier2, param_grid=no_trees, scoring='recall', cv=5)\n",
        "grid_search1.fit(x_scaled, y)\n",
        "best_parameters = grid_search1.best_params_\n",
        "print(best_parameters)\n",
        "best_result = grid_search1.best_score_\n",
        "print(best_result)"
      ],
      "metadata": {
        "colab": {
          "base_uri": "https://localhost:8080/"
        },
        "id": "7RxivcL95rho",
        "outputId": "7623b042-5ba9-4dd5-b009-1ac6cdbbf28f"
      },
      "execution_count": 8,
      "outputs": [
        {
          "output_type": "stream",
          "name": "stdout",
          "text": [
            "{'n_estimators': 545}\n",
            "0.980928512063939\n"
          ]
        }
      ]
    },
    {
      "cell_type": "markdown",
      "source": [
        "##3. Regular method with best parameter + Evaluation"
      ],
      "metadata": {
        "id": "DYPJXkTgJWqi"
      }
    },
    {
      "cell_type": "code",
      "source": [
        "RF_classifier3 = ensemble.RandomForestClassifier(n_estimators=371, criterion='entropy', max_features='sqrt', random_state=1)\n",
        "RF_classifier3.fit(x_train,y_train)\n",
        "Y_pred3=RF_classifier3.predict(x_test)\n",
        "imp_features = Series(RF_classifier3.feature_importances_, index=list(x)).sort_values(ascending=False)\n",
        "print(imp_features)"
      ],
      "metadata": {
        "colab": {
          "base_uri": "https://localhost:8080/"
        },
        "id": "JdWUh1vbJXGX",
        "outputId": "ff93b276-164f-4da9-9cba-9bbb2b524c1f"
      },
      "execution_count": 9,
      "outputs": [
        {
          "output_type": "stream",
          "name": "stdout",
          "text": [
            "Survival Months                            0.305610\n",
            "Reginol Node Positive                      0.116660\n",
            "Age                                        0.092761\n",
            "Regional Node Examined                     0.086364\n",
            "Tumor Size                                 0.085127\n",
            "Progesterone Status                        0.034149\n",
            "Marital Status_Married                     0.022949\n",
            "N Stage_N1                                 0.020926\n",
            "Marital Status_Single                      0.017263\n",
            "Marital Status_Divorced                    0.013623\n",
            "Race_White                                 0.013283\n",
            "T Stage_T1                                 0.013102\n",
            "T Stage_T2                                 0.012935\n",
            "Race_Other                                 0.011476\n",
            "6th Stage_IIA                              0.011402\n",
            "N Stage_N3                                 0.011366\n",
            "6th Stage_IIIC                             0.011166\n",
            "differentiate_Poorly differentiated        0.011018\n",
            "Grade_3                                    0.010809\n",
            "Estrogen Status                            0.010693\n",
            "differentiate_Well differentiated          0.009237\n",
            "differentiate_Moderately differentiated    0.008968\n",
            "Grade_2                                    0.008935\n",
            "Grade_1                                    0.008430\n",
            "Marital Status_Widowed                     0.007284\n",
            "N Stage_N2                                 0.007249\n",
            "T Stage_T3                                 0.006806\n",
            "6th Stage_IIB                              0.006384\n",
            "Race_Black                                 0.006383\n",
            "6th Stage_IIIA                             0.005884\n",
            "T Stage_T4                                 0.003427\n",
            "Marital Status_Separated                   0.002638\n",
            "A Stage                                    0.002224\n",
            "6th Stage_IIIB                             0.002054\n",
            "Grade_ anaplastic; Grade IV                0.000770\n",
            "differentiate_Undifferentiated             0.000647\n",
            "dtype: float64\n"
          ]
        }
      ]
    },
    {
      "cell_type": "code",
      "source": [
        "recall = metrics.recall_score(y_test, Y_pred3)\n",
        "print (recall)"
      ],
      "metadata": {
        "colab": {
          "base_uri": "https://localhost:8080/"
        },
        "id": "9JL1ZfELJlUY",
        "outputId": "a0ebb051-feea-4a11-f025-1f180c39a1d7"
      },
      "execution_count": 10,
      "outputs": [
        {
          "output_type": "stream",
          "name": "stdout",
          "text": [
            "0.9314868804664723\n"
          ]
        }
      ]
    },
    {
      "cell_type": "markdown",
      "source": [
        "##4. GridSearchCV with best features"
      ],
      "metadata": {
        "id": "CuOCTVpsFy0d"
      }
    },
    {
      "cell_type": "code",
      "source": [
        "X2 = data2[['Survival Months', 'Reginol Node Positive', 'Age', 'Regional Node Examined', 'Tumor Size']]\n",
        "X_scaled = StandardScaler().fit_transform(X2)\n",
        "# X_train, X_test, Y_train, Y_test = train_test_split( X_scaled, Y, test_size = 0.3, random_state = 100)# splitting\n",
        "# X_train,Y_train =SMOTE (random_state = 100).fit_resample(X_train,Y_train)# balancing\n",
        "\n",
        "RF_classifier4 = ensemble.RandomForestClassifier(criterion='entropy', max_features='sqrt', random_state=1)\n",
        "no_trees = {'n_estimators': [398, 399, 400, 401, 402]}\n",
        "grid_search2 = GridSearchCV(estimator=RF_classifier4, param_grid=no_trees, scoring='recall', cv=5)\n",
        "grid_search2.fit(X_scaled, y) # training, testing , evaluation, ranking.\n",
        "\n",
        "best_parameters = grid_search2.best_params_\n",
        "print(best_parameters)\n",
        "best_result = grid_search2.best_score_\n",
        "print(best_result)\n"
      ],
      "metadata": {
        "colab": {
          "base_uri": "https://localhost:8080/"
        },
        "id": "E_LMla_76fdA",
        "outputId": "ebb84b60-bc2c-46b8-afb4-1e4003c604df"
      },
      "execution_count": 11,
      "outputs": [
        {
          "output_type": "stream",
          "name": "stdout",
          "text": [
            "{'n_estimators': 399}\n",
            "0.9738869439025756\n"
          ]
        }
      ]
    },
    {
      "cell_type": "markdown",
      "source": [
        "##5. Regular method with best parameter and best features + Evaluation"
      ],
      "metadata": {
        "id": "3TaY7swcHRjj"
      }
    },
    {
      "cell_type": "code",
      "source": [
        "RF_classifier5 = ensemble.RandomForestClassifier(n_estimators=399, criterion='entropy', max_features='sqrt', random_state=1)\n",
        "RF_classifier5.fit(x_train,y_train)\n",
        "Y_pred4=RF_classifier5.predict(x_test)\n",
        "imp_features = Series(RF_classifier5.feature_importances_, index=list(x)).sort_values(ascending=False)\n",
        "print(imp_features)"
      ],
      "metadata": {
        "colab": {
          "base_uri": "https://localhost:8080/"
        },
        "id": "nk0-C-HMHQLz",
        "outputId": "3b377e25-0b79-4daf-fa2c-acd2816b8e64"
      },
      "execution_count": 12,
      "outputs": [
        {
          "output_type": "stream",
          "name": "stdout",
          "text": [
            "Survival Months                            0.304829\n",
            "Reginol Node Positive                      0.116179\n",
            "Age                                        0.092875\n",
            "Regional Node Examined                     0.086586\n",
            "Tumor Size                                 0.085460\n",
            "Progesterone Status                        0.034023\n",
            "Marital Status_Married                     0.022967\n",
            "N Stage_N1                                 0.020924\n",
            "Marital Status_Single                      0.017192\n",
            "Marital Status_Divorced                    0.013721\n",
            "Race_White                                 0.013239\n",
            "T Stage_T1                                 0.013024\n",
            "T Stage_T2                                 0.012915\n",
            "Race_Other                                 0.011599\n",
            "N Stage_N3                                 0.011432\n",
            "6th Stage_IIA                              0.011430\n",
            "6th Stage_IIIC                             0.011269\n",
            "differentiate_Poorly differentiated        0.011033\n",
            "Estrogen Status                            0.010972\n",
            "Grade_3                                    0.010905\n",
            "differentiate_Well differentiated          0.009211\n",
            "Grade_2                                    0.009109\n",
            "differentiate_Moderately differentiated    0.008821\n",
            "Grade_1                                    0.008541\n",
            "N Stage_N2                                 0.007259\n",
            "Marital Status_Widowed                     0.007246\n",
            "T Stage_T3                                 0.006819\n",
            "Race_Black                                 0.006375\n",
            "6th Stage_IIB                              0.006347\n",
            "6th Stage_IIIA                             0.005971\n",
            "T Stage_T4                                 0.003463\n",
            "Marital Status_Separated                   0.002651\n",
            "A Stage                                    0.002229\n",
            "6th Stage_IIIB                             0.002003\n",
            "Grade_ anaplastic; Grade IV                0.000739\n",
            "differentiate_Undifferentiated             0.000643\n",
            "dtype: float64\n"
          ]
        }
      ]
    },
    {
      "cell_type": "code",
      "source": [
        "recall = metrics.recall_score(y_test, Y_pred4)\n",
        "print (recall)"
      ],
      "metadata": {
        "colab": {
          "base_uri": "https://localhost:8080/"
        },
        "id": "y1WCHFz8Hg76",
        "outputId": "27c0b5a3-5db3-4b5e-bd85-65b53ad20907"
      },
      "execution_count": 13,
      "outputs": [
        {
          "output_type": "stream",
          "name": "stdout",
          "text": [
            "0.9285714285714286\n"
          ]
        }
      ]
    },
    {
      "cell_type": "markdown",
      "source": [
        "##6. A balanced GridSearchCV"
      ],
      "metadata": {
        "id": "dT2snXYrF4PE"
      }
    },
    {
      "cell_type": "code",
      "source": [
        "# Using pipeline (method #3)\n",
        "from imblearn.pipeline import Pipeline\n",
        "RF_classifier6 = Pipeline([('balancing', SMOTE(random_state = 101)),('classification', ensemble.RandomForestClassifier(criterion='entropy', max_features='sqrt', random_state=1))]) # building classifier\n",
        "no_trees = {'classification__n_estimators': [165, 166, 167, 168, 169]}\n",
        "grid_search3 = GridSearchCV(estimator=RF_classifier6, param_grid=no_trees, scoring='recall', cv=5)\n",
        "grid_search3.fit(X_scaled, y)\n",
        "\n",
        "best_parameters = grid_search3.best_params_\n",
        "print(best_parameters)\n",
        "best_result = grid_search3.best_score_\n",
        "print(best_result)"
      ],
      "metadata": {
        "colab": {
          "base_uri": "https://localhost:8080/"
        },
        "id": "ilkMCLhH7R5p",
        "outputId": "34ed196c-6785-4e55-ee70-446e691f3468"
      },
      "execution_count": 14,
      "outputs": [
        {
          "output_type": "stream",
          "name": "stdout",
          "text": [
            "{'classification__n_estimators': 167}\n",
            "0.936618996559312\n"
          ]
        }
      ]
    },
    {
      "cell_type": "markdown",
      "source": [
        "##7. Regular method with best parameter + Evaluation"
      ],
      "metadata": {
        "id": "6gQtSIQaF7yT"
      }
    },
    {
      "cell_type": "code",
      "source": [
        "# Building random forest (method #1 ) with the best number of trees\n",
        "RF_classifier7 = ensemble.RandomForestClassifier(n_estimators=167, criterion='entropy', max_features='sqrt', random_state=1)\n",
        "RF_classifier7.fit(x_train,y_train)\n",
        "Y_pred5=RF_classifier7.predict(x_test)\n",
        "imp_features = Series(RF_classifier7.feature_importances_, index=list(x)).sort_values(ascending=False)\n",
        "print(imp_features)"
      ],
      "metadata": {
        "colab": {
          "base_uri": "https://localhost:8080/"
        },
        "id": "NrMezInp7g3v",
        "outputId": "029a2552-efb2-4ca1-8d09-95382d8ea6ab"
      },
      "execution_count": 15,
      "outputs": [
        {
          "output_type": "stream",
          "name": "stdout",
          "text": [
            "Survival Months                            0.305564\n",
            "Reginol Node Positive                      0.116129\n",
            "Age                                        0.093151\n",
            "Regional Node Examined                     0.086708\n",
            "Tumor Size                                 0.085443\n",
            "Progesterone Status                        0.035195\n",
            "Marital Status_Married                     0.023420\n",
            "N Stage_N1                                 0.019971\n",
            "Marital Status_Single                      0.017295\n",
            "Marital Status_Divorced                    0.013412\n",
            "Race_White                                 0.013128\n",
            "T Stage_T2                                 0.012828\n",
            "T Stage_T1                                 0.012620\n",
            "6th Stage_IIIC                             0.011873\n",
            "6th Stage_IIA                              0.011520\n",
            "Race_Other                                 0.011158\n",
            "Grade_3                                    0.011030\n",
            "differentiate_Poorly differentiated        0.010840\n",
            "N Stage_N3                                 0.010544\n",
            "Estrogen Status                            0.010449\n",
            "differentiate_Moderately differentiated    0.009234\n",
            "differentiate_Well differentiated          0.009110\n",
            "Grade_2                                    0.008888\n",
            "Grade_1                                    0.008240\n",
            "Marital Status_Widowed                     0.007415\n",
            "N Stage_N2                                 0.007390\n",
            "T Stage_T3                                 0.006863\n",
            "6th Stage_IIB                              0.006724\n",
            "Race_Black                                 0.006363\n",
            "6th Stage_IIIA                             0.005813\n",
            "T Stage_T4                                 0.003529\n",
            "Marital Status_Separated                   0.002715\n",
            "A Stage                                    0.002096\n",
            "6th Stage_IIIB                             0.001867\n",
            "Grade_ anaplastic; Grade IV                0.000805\n",
            "differentiate_Undifferentiated             0.000670\n",
            "dtype: float64\n"
          ]
        }
      ]
    },
    {
      "cell_type": "code",
      "source": [
        "recall = metrics.recall_score(y_test, Y_pred5)\n",
        "print (recall)"
      ],
      "metadata": {
        "colab": {
          "base_uri": "https://localhost:8080/"
        },
        "id": "YLXtHPE9DBIO",
        "outputId": "16f126e4-5927-493f-e13a-761ab0648242"
      },
      "execution_count": 16,
      "outputs": [
        {
          "output_type": "stream",
          "name": "stdout",
          "text": [
            "0.934402332361516\n"
          ]
        }
      ]
    },
    {
      "cell_type": "markdown",
      "source": [
        "##8. A balanced GridSearchCV with best features"
      ],
      "metadata": {
        "id": "dK1VLM7KGLc2"
      }
    },
    {
      "cell_type": "code",
      "source": [
        "# # Using pipeline (method #3) using the most important features\n",
        "X3 = data2[['Survival Months', 'Reginol Node Positive','Age','Tumor Size','Regional Node Examined']]\n",
        "X_scaled = StandardScaler().fit_transform(X3)\n",
        "\n",
        "RF_classifier7 = Pipeline([('balancing', SMOTE(random_state = 101)),('classification', ensemble.RandomForestClassifier(criterion='entropy', max_features='sqrt', random_state=1) )])\n",
        "no_trees = {'classification__n_estimators': [191, 192, 193, 194, 195]}\n",
        "grid_search4 = GridSearchCV(estimator=RF_classifier7, param_grid=no_trees, scoring='recall', cv=5)\n",
        "grid_search4.fit(X_scaled, y)\n",
        "\n",
        "best_parameters = grid_search4.best_params_\n",
        "print(best_parameters)\n",
        "best_result = grid_search4.best_score_\n",
        "print(best_result)"
      ],
      "metadata": {
        "colab": {
          "base_uri": "https://localhost:8080/"
        },
        "id": "2ZXKyqJy70Zd",
        "outputId": "982ca90c-cd44-41f0-8661-b3028e2dae79"
      },
      "execution_count": 17,
      "outputs": [
        {
          "output_type": "stream",
          "name": "stdout",
          "text": [
            "{'classification__n_estimators': 193}\n",
            "0.9339784084988008\n"
          ]
        }
      ]
    },
    {
      "cell_type": "markdown",
      "source": [
        "##9. Regular method with best parameter and best features + Evaluation"
      ],
      "metadata": {
        "id": "fOx5RRJgGPOa"
      }
    },
    {
      "cell_type": "code",
      "source": [
        "RF_classifier8 = ensemble.RandomForestClassifier(n_estimators=193, criterion='entropy', max_features='sqrt', random_state=1)\n",
        "RF_classifier8.fit(x_train,y_train)\n",
        "Y_pred8=RF_classifier8.predict(x_test)\n",
        "imp_features = Series(RF_classifier8.feature_importances_, index=list(x)).sort_values(ascending=False)\n",
        "print(imp_features)\n"
      ],
      "metadata": {
        "colab": {
          "base_uri": "https://localhost:8080/"
        },
        "id": "OGuUNA0G-Yd_",
        "outputId": "46f7c226-4e59-409c-f921-d35b698e6a9b"
      },
      "execution_count": 18,
      "outputs": [
        {
          "output_type": "stream",
          "name": "stdout",
          "text": [
            "Survival Months                            0.305474\n",
            "Reginol Node Positive                      0.116102\n",
            "Age                                        0.092993\n",
            "Regional Node Examined                     0.086592\n",
            "Tumor Size                                 0.085347\n",
            "Progesterone Status                        0.034480\n",
            "Marital Status_Married                     0.023294\n",
            "N Stage_N1                                 0.020823\n",
            "Marital Status_Single                      0.017083\n",
            "Marital Status_Divorced                    0.013456\n",
            "Race_White                                 0.013209\n",
            "T Stage_T2                                 0.012902\n",
            "T Stage_T1                                 0.012866\n",
            "N Stage_N3                                 0.012297\n",
            "Race_Other                                 0.011323\n",
            "6th Stage_IIA                              0.011180\n",
            "6th Stage_IIIC                             0.011035\n",
            "Grade_3                                    0.010836\n",
            "differentiate_Poorly differentiated        0.010802\n",
            "Estrogen Status                            0.010750\n",
            "differentiate_Moderately differentiated    0.009028\n",
            "Grade_2                                    0.008978\n",
            "differentiate_Well differentiated          0.008849\n",
            "Grade_1                                    0.008540\n",
            "Marital Status_Widowed                     0.007330\n",
            "N Stage_N2                                 0.007305\n",
            "T Stage_T3                                 0.006826\n",
            "6th Stage_IIB                              0.006518\n",
            "Race_Black                                 0.006356\n",
            "6th Stage_IIIA                             0.005828\n",
            "T Stage_T4                                 0.003513\n",
            "Marital Status_Separated                   0.002610\n",
            "A Stage                                    0.002099\n",
            "6th Stage_IIIB                             0.001915\n",
            "Grade_ anaplastic; Grade IV                0.000825\n",
            "differentiate_Undifferentiated             0.000636\n",
            "dtype: float64\n"
          ]
        }
      ]
    },
    {
      "cell_type": "code",
      "source": [
        "recall = metrics.recall_score(y_test, Y_pred8)\n",
        "print (recall)"
      ],
      "metadata": {
        "colab": {
          "base_uri": "https://localhost:8080/"
        },
        "id": "xhYutBZE_paZ",
        "outputId": "43d64206-764f-4787-cad4-2946bd852826"
      },
      "execution_count": 19,
      "outputs": [
        {
          "output_type": "stream",
          "name": "stdout",
          "text": [
            "0.9358600583090378\n"
          ]
        }
      ]
    },
    {
      "cell_type": "markdown",
      "source": [
        "##10. Reasoning behind choice of Evaluation Metric"
      ],
      "metadata": {
        "id": "zE7ABw7mRIA1"
      }
    },
    {
      "cell_type": "markdown",
      "source": [
        "Evaluation Metric: Recall<br>\n",
        "<br>\n",
        "The target feature, i.e. Dead/Alive, was encoded as follows: 'Dead':0, 'Alive':1 <br>\n",
        "<br>\n",
        "It is preferrable to eliminate false negatives, i.e. incorrectly predict that a person will die when in fact they will survive. <br>\n",
        "<br>\n",
        "Hence, the model was tuned such that the recall is maximized and most number of survivors are correctly identified."
      ],
      "metadata": {
        "id": "fcq2GuwVAmO8"
      }
    }
  ]
}