{
  "nbformat": 4,
  "nbformat_minor": 0,
  "metadata": {
    "colab": {
      "provenance": [],
      "collapsed_sections": [
        "GHvraCTAoy3b"
      ]
    },
    "kernelspec": {
      "name": "python3",
      "display_name": "Python 3"
    },
    "language_info": {
      "name": "python"
    }
  },
  "cells": [
    {
      "cell_type": "markdown",
      "source": [
        "##Data Preparation"
      ],
      "metadata": {
        "id": "GHvraCTAoy3b"
      }
    },
    {
      "cell_type": "code",
      "execution_count": null,
      "metadata": {
        "id": "WAQkZchMpHnC"
      },
      "outputs": [],
      "source": [
        "from pandas import read_csv, DataFrame, get_dummies, Series\n",
        "from sklearn.preprocessing import StandardScaler\n",
        "from sklearn.model_selection import train_test_split\n",
        "from imblearn.over_sampling import SMOTE\n",
        "CC = read_csv('/content/drive/MyDrive/Customer_Churn.csv')\n",
        "CC['Attrition_Flag'] = CC['Attrition_Flag'].map({'Existing Customer':1, 'Attrited Customer':0})\n",
        "CC['Gender'] = CC['Gender'].map({'M':0,'F':1})\n",
        "CC['Education_Level'] = CC['Education_Level'].map({'Uneducated':0, 'High School':1, 'Graduate':2, 'Post-Graduate':3, 'Doctorate':4})\n",
        "CC['Income_Category'] = CC['Income_Category'].map({'Less than $40K':0, '$40K - $60K':1, '$60K - $80K':2, '$80K - $120K':3, '$120K +':4})\n",
        "CC['Card_Category'] = CC['Card_Category'].map({'Blue':0, 'Silver':1, 'Gold':2, 'Platinum':3})\n",
        "CC2 = get_dummies(CC, ['Marital_Status'], dtype=int)\n",
        "x = CC2.drop('Attrition_Flag', axis=1)\n",
        "y = CC2['Attrition_Flag']\n",
        "x_scaled = StandardScaler().fit_transform(x)\n",
        "x_train, x_test, y_train, y_test = train_test_split(x_scaled, y, test_size=0.2, random_state=100)\n",
        "x_train, y_train = SMOTE().fit_resample(x_train, y_train)"
      ]
    },
    {
      "cell_type": "markdown",
      "source": [
        "#SVC - Support Vector Classifier"
      ],
      "metadata": {
        "id": "wFBayZK3pE_d"
      }
    },
    {
      "cell_type": "markdown",
      "source": [
        "##Pipeline Method for Tuning"
      ],
      "metadata": {
        "id": "R85gHJoApOA-"
      }
    },
    {
      "cell_type": "code",
      "source": [
        "from sklearn import svm\n",
        "from imblearn.pipeline import Pipeline\n",
        "from sklearn.model_selection import GridSearchCV\n",
        "SV_classifier = Pipeline([('balancing', SMOTE(random_state = 100)),('classification', svm.SVC(random_state=100))])\n",
        "kernels_c = {'classification__kernel': ['linear','poly','rbf','sigmoid'], 'classification__C': [98, 99, 100, 101, 102]}\n",
        "grid_search1 = GridSearchCV(estimator=SV_classifier, param_grid=kernels_c, scoring='recall', cv=5)\n",
        "grid_search1.fit(x_scaled, y)\n",
        "best_parameters = grid_search1.best_params_\n",
        "print(best_parameters)\n",
        "best_result = grid_search1.best_score_\n",
        "print(best_result)"
      ],
      "metadata": {
        "colab": {
          "base_uri": "https://localhost:8080/"
        },
        "id": "cr__B-qF0jsT",
        "outputId": "019abc59-2cfb-4057-e699-6adcfb39bf01"
      },
      "execution_count": null,
      "outputs": [
        {
          "output_type": "stream",
          "name": "stdout",
          "text": [
            "{'classification__C': 100, 'classification__kernel': 'rbf'}\n",
            "0.9233480335584794\n"
          ]
        }
      ]
    },
    {
      "cell_type": "markdown",
      "source": [
        "##SVC - Using Best Parameters"
      ],
      "metadata": {
        "id": "YVTtoKjNpdtB"
      }
    },
    {
      "cell_type": "code",
      "source": [
        "SV_classifier = svm.SVC(kernel='rbf', random_state=100, C=100)\n",
        "SV_classifier.fit(x_train, y_train)\n",
        "y_pred= SV_classifier.predict(x_test)"
      ],
      "metadata": {
        "id": "ifCDRdFgoMaT"
      },
      "execution_count": null,
      "outputs": []
    },
    {
      "cell_type": "markdown",
      "source": [
        "##Evaluation"
      ],
      "metadata": {
        "id": "QuzJpz09plGM"
      }
    },
    {
      "cell_type": "code",
      "source": [
        "from sklearn import metrics\n",
        "recall = metrics.recall_score(y_test, y_pred)\n",
        "print (recall)"
      ],
      "metadata": {
        "colab": {
          "base_uri": "https://localhost:8080/"
        },
        "id": "vk1ZlaYiogr7",
        "outputId": "2b2b6872-0b1a-4a9a-830b-1ddbaa97b498"
      },
      "execution_count": null,
      "outputs": [
        {
          "output_type": "stream",
          "name": "stdout",
          "text": [
            "0.9129186602870814\n"
          ]
        }
      ]
    },
    {
      "cell_type": "markdown",
      "source": [
        "#Random Forest Method"
      ],
      "metadata": {
        "id": "k9QMkunFpnWG"
      }
    },
    {
      "cell_type": "markdown",
      "source": [
        "##Balanced Grid Search CV with Pipeline"
      ],
      "metadata": {
        "id": "7kNmVJA5pr4v"
      }
    },
    {
      "cell_type": "code",
      "source": [
        "from imblearn.pipeline import Pipeline\n",
        "from sklearn import ensemble\n",
        "RF_classifier = Pipeline([('balancing', SMOTE(random_state = 100)),('classification', ensemble.RandomForestClassifier(criterion='entropy', max_features='sqrt', random_state=100))])\n",
        "no_trees = {'classification__n_estimators': [784, 785, 786, 787, 788]}\n",
        "grid_search = GridSearchCV(estimator=RF_classifier, param_grid=no_trees, scoring='recall', cv=5)\n",
        "grid_search.fit(x_scaled, y)\n",
        "\n",
        "best_parameters = grid_search.best_params_\n",
        "print(best_parameters)\n",
        "best_result = grid_search.best_score_\n",
        "print(best_result)"
      ],
      "metadata": {
        "id": "XcgPYEO-50QC",
        "colab": {
          "base_uri": "https://localhost:8080/"
        },
        "outputId": "f343c334-d408-486f-c826-551580008166"
      },
      "execution_count": null,
      "outputs": [
        {
          "output_type": "stream",
          "name": "stdout",
          "text": [
            "{'classification__n_estimators': 785}\n",
            "0.9520735276560799\n"
          ]
        }
      ]
    },
    {
      "cell_type": "markdown",
      "source": [
        "##Regular Method with Best Parameters & Evaluation"
      ],
      "metadata": {
        "id": "Hr4YQKsrqAqK"
      }
    },
    {
      "cell_type": "code",
      "source": [
        "RF_classifier = ensemble.RandomForestClassifier(n_estimators=785, criterion='entropy', max_features='sqrt', random_state=100)\n",
        "RF_classifier.fit(x_train,y_train)\n",
        "y_pred=RF_classifier.predict(x_test)\n",
        "from sklearn import metrics\n",
        "confusion_matrix=metrics.confusion_matrix(y_test,y_pred)\n",
        "print(confusion_matrix)\n",
        "recall=metrics.recall_score(y_test,y_pred)\n",
        "print('recall',recall)"
      ],
      "metadata": {
        "id": "-d5FiaLS58RD",
        "colab": {
          "base_uri": "https://localhost:8080/"
        },
        "outputId": "f6cb6c67-ab13-439c-9705-9427fc87274e"
      },
      "execution_count": null,
      "outputs": [
        {
          "output_type": "stream",
          "name": "stdout",
          "text": [
            "[[ 163   40]\n",
            " [  40 1005]]\n",
            "recall 0.9617224880382775\n"
          ]
        }
      ]
    }
  ]
}