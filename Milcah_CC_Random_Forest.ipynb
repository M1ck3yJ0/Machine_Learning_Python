{
  "nbformat": 4,
  "nbformat_minor": 0,
  "metadata": {
    "colab": {
      "provenance": []
    },
    "kernelspec": {
      "name": "python3",
      "display_name": "Python 3"
    },
    "language_info": {
      "name": "python"
    }
  },
  "cells": [
    {
      "cell_type": "markdown",
      "source": [
        "##0. Data Preparation"
      ],
      "metadata": {
        "id": "vEgJTXxYGjCD"
      }
    },
    {
      "cell_type": "code",
      "execution_count": null,
      "metadata": {
        "id": "m_jwcKBY3qdO"
      },
      "outputs": [],
      "source": [
        "from pandas import read_csv, DataFrame, get_dummies, Series\n",
        "from sklearn.preprocessing import StandardScaler\n",
        "from sklearn.model_selection import train_test_split\n",
        "from imblearn.over_sampling import SMOTE\n",
        "CC = read_csv('/content/Customer_Churn.csv')\n",
        "CC['Attrition_Flag'] = CC['Attrition_Flag'].map({'Existing Customer':1, 'Attrited Customer':0})\n",
        "CC['Gender'] = CC['Gender'].map({'M':0,'F':1})\n",
        "CC['Education_Level'] = CC['Education_Level'].map({'Uneducated':0, 'High School':1, 'Graduate':2, 'Post-Graduate':3, 'Doctorate':4})\n",
        "CC['Income_Category'] = CC['Income_Category'].map({'Less than $40K':0, '$40K - $60K':1, '$60K - $80K':2, '$80K - $120K':3, '$120K +':4})\n",
        "CC['Card_Category'] = CC['Card_Category'].map({'Blue':0, 'Silver':1, 'Gold':2, 'Platinum':3})\n",
        "CC2 = get_dummies(CC, ['Marital_Status'], dtype=int)\n",
        "x = CC2.drop('Attrition_Flag', axis=1)\n",
        "y = CC2['Attrition_Flag']\n",
        "x_scaled = StandardScaler().fit_transform(x)\n",
        "x_train, x_test, y_train, y_test = train_test_split(x_scaled, y, test_size=0.2, random_state=100)\n",
        "x_train, y_train = SMOTE().fit_resample(x_train, y_train)"
      ]
    },
    {
      "cell_type": "markdown",
      "source": [
        "##1. Regular method (method #1) + Evaluation"
      ],
      "metadata": {
        "id": "dJJ9Q-mXFQvZ"
      }
    },
    {
      "cell_type": "code",
      "source": [
        "from sklearn import ensemble\n",
        "RF_classifier1 =ensemble.RandomForestClassifier(n_estimators=50, criterion='entropy', max_features='auto', random_state=1)\n",
        "RF_classifier1.fit(x_train,y_train)\n",
        "y_pred1=RF_classifier1.predict(x_test)"
      ],
      "metadata": {
        "colab": {
          "base_uri": "https://localhost:8080/"
        },
        "id": "41tG49pJ5BYl",
        "outputId": "706fb7b1-14b1-45d6-ee59-0531091d0dff"
      },
      "execution_count": null,
      "outputs": [
        {
          "output_type": "stream",
          "name": "stderr",
          "text": [
            "/usr/local/lib/python3.10/dist-packages/sklearn/ensemble/_forest.py:424: FutureWarning: `max_features='auto'` has been deprecated in 1.1 and will be removed in 1.3. To keep the past behaviour, explicitly set `max_features='sqrt'` or remove this parameter as it is also the default value for RandomForestClassifiers and ExtraTreesClassifiers.\n",
            "  warn(\n"
          ]
        }
      ]
    },
    {
      "cell_type": "code",
      "source": [
        "from sklearn import metrics\n",
        "recall = metrics.recall_score(y_test, y_pred1)\n",
        "print (recall)"
      ],
      "metadata": {
        "colab": {
          "base_uri": "https://localhost:8080/"
        },
        "id": "LsZ-4CgI5XpT",
        "outputId": "9eb7fbec-4d8c-49af-d767-2e91f742a822"
      },
      "execution_count": null,
      "outputs": [
        {
          "output_type": "stream",
          "name": "stdout",
          "text": [
            "0.9598086124401913\n"
          ]
        }
      ]
    },
    {
      "cell_type": "markdown",
      "source": [
        "##2. GridSearchCV (method #2)"
      ],
      "metadata": {
        "id": "GWQomqfkFiyg"
      }
    },
    {
      "cell_type": "code",
      "source": [
        "# Random Forest Classifier (method 2)\n",
        "from sklearn.model_selection import GridSearchCV\n",
        "RF_classifier2 = ensemble.RandomForestClassifier(criterion='entropy', max_features='sqrt', random_state=100)\n",
        "no_trees = {'n_estimators': [545 550, 560, 575]}\n",
        "grid_search1 = GridSearchCV(estimator=RF_classifier2, param_grid=no_trees, scoring='recall', cv=5)\n",
        "grid_search1.fit(x_scaled, y)\n",
        "best_parameters = grid_search1.best_params_\n",
        "print(best_parameters)\n",
        "best_result = grid_search1.best_score_\n",
        "print(best_result)"
      ],
      "metadata": {
        "colab": {
          "base_uri": "https://localhost:8080/"
        },
        "id": "7RxivcL95rho",
        "outputId": "11907f2d-fec8-4325-e39c-7c36a5a012b9"
      },
      "execution_count": null,
      "outputs": [
        {
          "output_type": "stream",
          "name": "stdout",
          "text": [
            "{'n_estimators': 550}\n",
            "0.9729951196217254\n"
          ]
        }
      ]
    },
    {
      "cell_type": "markdown",
      "source": [
        "##3. Regular method with best parameter + Evaluation"
      ],
      "metadata": {
        "id": "DYPJXkTgJWqi"
      }
    },
    {
      "cell_type": "code",
      "source": [
        "RF_classifier3 = ensemble.RandomForestClassifier(n_estimators=371, criterion='entropy', max_features='auto', random_state=1)\n",
        "RF_classifier3.fit(x_train,y_train)\n",
        "Y_pred3=RF_classifier3.predict(x_test)\n",
        "imp_features = Series(RF_classifier3.feature_importances_, index=list(x)).sort_values(ascending=False)\n",
        "print(imp_features)"
      ],
      "metadata": {
        "colab": {
          "base_uri": "https://localhost:8080/"
        },
        "id": "JdWUh1vbJXGX",
        "outputId": "b9c7600a-3468-40ef-a051-1f6dd351e415"
      },
      "execution_count": null,
      "outputs": [
        {
          "output_type": "stream",
          "name": "stderr",
          "text": [
            "/usr/local/lib/python3.10/dist-packages/sklearn/ensemble/_forest.py:424: FutureWarning: `max_features='auto'` has been deprecated in 1.1 and will be removed in 1.3. To keep the past behaviour, explicitly set `max_features='sqrt'` or remove this parameter as it is also the default value for RandomForestClassifiers and ExtraTreesClassifiers.\n",
            "  warn(\n"
          ]
        },
        {
          "output_type": "stream",
          "name": "stdout",
          "text": [
            "Survival Months                            0.310992\n",
            "Reginol Node Positive                      0.114524\n",
            "Age                                        0.089236\n",
            "Regional Node Examined                     0.086817\n",
            "Tumor Size                                 0.086081\n",
            "Progesterone Status                        0.034743\n",
            "Marital Status_Married                     0.023976\n",
            "N Stage_N1                                 0.020408\n",
            "Marital Status_Single                      0.017038\n",
            "T Stage_T1                                 0.014867\n",
            "T Stage_T2                                 0.013684\n",
            "Grade_3                                    0.013599\n",
            "differentiate_Poorly differentiated        0.012501\n",
            "Race_White                                 0.012277\n",
            "Estrogen Status                            0.012055\n",
            "Marital Status_Divorced                    0.011984\n",
            "6th Stage_IIA                              0.011701\n",
            "Race_Other                                 0.010246\n",
            "N Stage_N3                                 0.009418\n",
            "differentiate_Moderately differentiated    0.009036\n",
            "Grade_2                                    0.008982\n",
            "6th Stage_IIIC                             0.007834\n",
            "Grade_1                                    0.007740\n",
            "differentiate_Well differentiated          0.007736\n",
            "Race_Black                                 0.007610\n",
            "Marital Status_Widowed                     0.006903\n",
            "N Stage_N2                                 0.006522\n",
            "6th Stage_IIB                              0.006504\n",
            "T Stage_T3                                 0.006502\n",
            "6th Stage_IIIA                             0.006021\n",
            "T Stage_T4                                 0.003765\n",
            "Marital Status_Separated                   0.002967\n",
            "6th Stage_IIIB                             0.002305\n",
            "A Stage                                    0.002053\n",
            "differentiate_Undifferentiated             0.000717\n",
            "Grade_ anaplastic; Grade IV                0.000655\n",
            "dtype: float64\n"
          ]
        }
      ]
    },
    {
      "cell_type": "code",
      "source": [
        "recall = metrics.recall_score(y_test, Y_pred3)\n",
        "print (recall)"
      ],
      "metadata": {
        "colab": {
          "base_uri": "https://localhost:8080/"
        },
        "id": "9JL1ZfELJlUY",
        "outputId": "8194b6ea-6eaf-4a5a-cf23-2fc89b469f1b"
      },
      "execution_count": null,
      "outputs": [
        {
          "output_type": "stream",
          "name": "stdout",
          "text": [
            "0.934402332361516\n"
          ]
        }
      ]
    },
    {
      "cell_type": "markdown",
      "source": [
        "##4. GridSearchCV with best features"
      ],
      "metadata": {
        "id": "CuOCTVpsFy0d"
      }
    },
    {
      "cell_type": "code",
      "source": [
        "X2 = data2[['Survival Months', 'Reginol Node Positive', 'Age', 'Regional Node Examined', 'Tumor Size']]\n",
        "X_scaled = StandardScaler().fit_transform(X2)\n",
        "# X_train, X_test, Y_train, Y_test = train_test_split( X_scaled, Y, test_size = 0.3, random_state = 100)# splitting\n",
        "# X_train,Y_train =SMOTE (random_state = 100).fit_resample(X_train,Y_train)# balancing\n",
        "\n",
        "RF_classifier4 = ensemble.RandomForestClassifier(criterion='entropy', max_features='sqrt', random_state=1)\n",
        "no_trees = {'n_estimators': [398, 399, 400, 401, 402]}\n",
        "grid_search2 = GridSearchCV(estimator=RF_classifier4, param_grid=no_trees, scoring='recall', cv=5)\n",
        "grid_search2.fit(X_scaled, y) # training, testing , evaluation, ranking.\n",
        "\n",
        "best_parameters = grid_search2.best_params_\n",
        "print(best_parameters)\n",
        "best_result = grid_search2.best_score_\n",
        "print(best_result)\n"
      ],
      "metadata": {
        "colab": {
          "base_uri": "https://localhost:8080/"
        },
        "id": "E_LMla_76fdA",
        "outputId": "946db89b-a406-402b-95e3-93dd46be96e0"
      },
      "execution_count": null,
      "outputs": [
        {
          "output_type": "stream",
          "name": "stdout",
          "text": [
            "{'n_estimators': 399}\n",
            "0.9738869439025756\n"
          ]
        }
      ]
    },
    {
      "cell_type": "markdown",
      "source": [
        "##5. Regular method with best parameter and best features + Evaluation"
      ],
      "metadata": {
        "id": "3TaY7swcHRjj"
      }
    },
    {
      "cell_type": "code",
      "source": [
        "RF_classifier5 = ensemble.RandomForestClassifier(n_estimators=399, criterion='entropy', max_features='auto', random_state=1)\n",
        "RF_classifier5.fit(x_train,y_train)\n",
        "Y_pred4=RF_classifier5.predict(x_test)\n",
        "imp_features = Series(RF_classifier5.feature_importances_, index=list(x)).sort_values(ascending=False)\n",
        "print(imp_features)"
      ],
      "metadata": {
        "colab": {
          "base_uri": "https://localhost:8080/"
        },
        "id": "nk0-C-HMHQLz",
        "outputId": "404b4f69-da5b-4903-b289-dee07de5eb7d"
      },
      "execution_count": null,
      "outputs": [
        {
          "output_type": "stream",
          "name": "stderr",
          "text": [
            "/usr/local/lib/python3.10/dist-packages/sklearn/ensemble/_forest.py:424: FutureWarning: `max_features='auto'` has been deprecated in 1.1 and will be removed in 1.3. To keep the past behaviour, explicitly set `max_features='sqrt'` or remove this parameter as it is also the default value for RandomForestClassifiers and ExtraTreesClassifiers.\n",
            "  warn(\n"
          ]
        },
        {
          "output_type": "stream",
          "name": "stdout",
          "text": [
            "Survival Months                            0.310528\n",
            "Reginol Node Positive                      0.114379\n",
            "Age                                        0.089184\n",
            "Regional Node Examined                     0.086894\n",
            "Tumor Size                                 0.086148\n",
            "Progesterone Status                        0.034608\n",
            "Marital Status_Married                     0.023939\n",
            "N Stage_N1                                 0.020382\n",
            "Marital Status_Single                      0.017113\n",
            "T Stage_T1                                 0.014944\n",
            "T Stage_T2                                 0.013670\n",
            "Grade_3                                    0.013566\n",
            "differentiate_Poorly differentiated        0.012510\n",
            "Race_White                                 0.012332\n",
            "Estrogen Status                            0.012185\n",
            "Marital Status_Divorced                    0.012076\n",
            "6th Stage_IIA                              0.011853\n",
            "Race_Other                                 0.010297\n",
            "N Stage_N3                                 0.009193\n",
            "Grade_2                                    0.009137\n",
            "differentiate_Moderately differentiated    0.008969\n",
            "6th Stage_IIIC                             0.008116\n",
            "Grade_1                                    0.007854\n",
            "differentiate_Well differentiated          0.007654\n",
            "Race_Black                                 0.007563\n",
            "Marital Status_Widowed                     0.006946\n",
            "N Stage_N2                                 0.006529\n",
            "6th Stage_IIB                              0.006487\n",
            "T Stage_T3                                 0.006433\n",
            "6th Stage_IIIA                             0.005972\n",
            "T Stage_T4                                 0.003780\n",
            "Marital Status_Separated                   0.002974\n",
            "6th Stage_IIIB                             0.002311\n",
            "A Stage                                    0.002073\n",
            "differentiate_Undifferentiated             0.000704\n",
            "Grade_ anaplastic; Grade IV                0.000697\n",
            "dtype: float64\n"
          ]
        }
      ]
    },
    {
      "cell_type": "code",
      "source": [
        "recall = metrics.recall_score(y_test, Y_pred4)\n",
        "print (recall)"
      ],
      "metadata": {
        "colab": {
          "base_uri": "https://localhost:8080/"
        },
        "id": "y1WCHFz8Hg76",
        "outputId": "ba077e1f-dc1f-42f2-afe7-131f403cda88"
      },
      "execution_count": null,
      "outputs": [
        {
          "output_type": "stream",
          "name": "stdout",
          "text": [
            "0.9358600583090378\n"
          ]
        }
      ]
    },
    {
      "cell_type": "markdown",
      "source": [
        "##6. A balanced GridSearchCV (method#3)"
      ],
      "metadata": {
        "id": "dT2snXYrF4PE"
      }
    },
    {
      "cell_type": "code",
      "source": [
        "# Using pipeline (method #3)\n",
        "from imblearn.pipeline import Pipeline\n",
        "RF_classifier6 = Pipeline([('balancing', SMOTE(random_state = 101)),('classification', ensemble.RandomForestClassifier(criterion='entropy', max_features='auto', random_state=1))]) # building classifier\n",
        "no_trees = {'classification__n_estimators': [165, 166, 167, 168, 169]}\n",
        "grid_search3 = GridSearchCV(estimator=RF_classifier6, param_grid=no_trees, scoring='recall', cv=5)\n",
        "grid_search3.fit(X_scaled, y)\n",
        "\n",
        "best_parameters = grid_search3.best_params_\n",
        "print(best_parameters)\n",
        "best_result = grid_search3.best_score_\n",
        "print(best_result)"
      ],
      "metadata": {
        "colab": {
          "base_uri": "https://localhost:8080/"
        },
        "id": "ilkMCLhH7R5p",
        "outputId": "ed788c52-1f24-409f-d09e-214add6d56c2"
      },
      "execution_count": null,
      "outputs": [
        {
          "output_type": "stream",
          "name": "stderr",
          "text": [
            "/usr/local/lib/python3.10/dist-packages/sklearn/ensemble/_forest.py:424: FutureWarning: `max_features='auto'` has been deprecated in 1.1 and will be removed in 1.3. To keep the past behaviour, explicitly set `max_features='sqrt'` or remove this parameter as it is also the default value for RandomForestClassifiers and ExtraTreesClassifiers.\n",
            "  warn(\n",
            "/usr/local/lib/python3.10/dist-packages/sklearn/ensemble/_forest.py:424: FutureWarning: `max_features='auto'` has been deprecated in 1.1 and will be removed in 1.3. To keep the past behaviour, explicitly set `max_features='sqrt'` or remove this parameter as it is also the default value for RandomForestClassifiers and ExtraTreesClassifiers.\n",
            "  warn(\n",
            "/usr/local/lib/python3.10/dist-packages/sklearn/ensemble/_forest.py:424: FutureWarning: `max_features='auto'` has been deprecated in 1.1 and will be removed in 1.3. To keep the past behaviour, explicitly set `max_features='sqrt'` or remove this parameter as it is also the default value for RandomForestClassifiers and ExtraTreesClassifiers.\n",
            "  warn(\n",
            "/usr/local/lib/python3.10/dist-packages/sklearn/ensemble/_forest.py:424: FutureWarning: `max_features='auto'` has been deprecated in 1.1 and will be removed in 1.3. To keep the past behaviour, explicitly set `max_features='sqrt'` or remove this parameter as it is also the default value for RandomForestClassifiers and ExtraTreesClassifiers.\n",
            "  warn(\n",
            "/usr/local/lib/python3.10/dist-packages/sklearn/ensemble/_forest.py:424: FutureWarning: `max_features='auto'` has been deprecated in 1.1 and will be removed in 1.3. To keep the past behaviour, explicitly set `max_features='sqrt'` or remove this parameter as it is also the default value for RandomForestClassifiers and ExtraTreesClassifiers.\n",
            "  warn(\n",
            "/usr/local/lib/python3.10/dist-packages/sklearn/ensemble/_forest.py:424: FutureWarning: `max_features='auto'` has been deprecated in 1.1 and will be removed in 1.3. To keep the past behaviour, explicitly set `max_features='sqrt'` or remove this parameter as it is also the default value for RandomForestClassifiers and ExtraTreesClassifiers.\n",
            "  warn(\n",
            "/usr/local/lib/python3.10/dist-packages/sklearn/ensemble/_forest.py:424: FutureWarning: `max_features='auto'` has been deprecated in 1.1 and will be removed in 1.3. To keep the past behaviour, explicitly set `max_features='sqrt'` or remove this parameter as it is also the default value for RandomForestClassifiers and ExtraTreesClassifiers.\n",
            "  warn(\n",
            "/usr/local/lib/python3.10/dist-packages/sklearn/ensemble/_forest.py:424: FutureWarning: `max_features='auto'` has been deprecated in 1.1 and will be removed in 1.3. To keep the past behaviour, explicitly set `max_features='sqrt'` or remove this parameter as it is also the default value for RandomForestClassifiers and ExtraTreesClassifiers.\n",
            "  warn(\n",
            "/usr/local/lib/python3.10/dist-packages/sklearn/ensemble/_forest.py:424: FutureWarning: `max_features='auto'` has been deprecated in 1.1 and will be removed in 1.3. To keep the past behaviour, explicitly set `max_features='sqrt'` or remove this parameter as it is also the default value for RandomForestClassifiers and ExtraTreesClassifiers.\n",
            "  warn(\n",
            "/usr/local/lib/python3.10/dist-packages/sklearn/ensemble/_forest.py:424: FutureWarning: `max_features='auto'` has been deprecated in 1.1 and will be removed in 1.3. To keep the past behaviour, explicitly set `max_features='sqrt'` or remove this parameter as it is also the default value for RandomForestClassifiers and ExtraTreesClassifiers.\n",
            "  warn(\n",
            "/usr/local/lib/python3.10/dist-packages/sklearn/ensemble/_forest.py:424: FutureWarning: `max_features='auto'` has been deprecated in 1.1 and will be removed in 1.3. To keep the past behaviour, explicitly set `max_features='sqrt'` or remove this parameter as it is also the default value for RandomForestClassifiers and ExtraTreesClassifiers.\n",
            "  warn(\n",
            "/usr/local/lib/python3.10/dist-packages/sklearn/ensemble/_forest.py:424: FutureWarning: `max_features='auto'` has been deprecated in 1.1 and will be removed in 1.3. To keep the past behaviour, explicitly set `max_features='sqrt'` or remove this parameter as it is also the default value for RandomForestClassifiers and ExtraTreesClassifiers.\n",
            "  warn(\n",
            "/usr/local/lib/python3.10/dist-packages/sklearn/ensemble/_forest.py:424: FutureWarning: `max_features='auto'` has been deprecated in 1.1 and will be removed in 1.3. To keep the past behaviour, explicitly set `max_features='sqrt'` or remove this parameter as it is also the default value for RandomForestClassifiers and ExtraTreesClassifiers.\n",
            "  warn(\n",
            "/usr/local/lib/python3.10/dist-packages/sklearn/ensemble/_forest.py:424: FutureWarning: `max_features='auto'` has been deprecated in 1.1 and will be removed in 1.3. To keep the past behaviour, explicitly set `max_features='sqrt'` or remove this parameter as it is also the default value for RandomForestClassifiers and ExtraTreesClassifiers.\n",
            "  warn(\n",
            "/usr/local/lib/python3.10/dist-packages/sklearn/ensemble/_forest.py:424: FutureWarning: `max_features='auto'` has been deprecated in 1.1 and will be removed in 1.3. To keep the past behaviour, explicitly set `max_features='sqrt'` or remove this parameter as it is also the default value for RandomForestClassifiers and ExtraTreesClassifiers.\n",
            "  warn(\n",
            "/usr/local/lib/python3.10/dist-packages/sklearn/ensemble/_forest.py:424: FutureWarning: `max_features='auto'` has been deprecated in 1.1 and will be removed in 1.3. To keep the past behaviour, explicitly set `max_features='sqrt'` or remove this parameter as it is also the default value for RandomForestClassifiers and ExtraTreesClassifiers.\n",
            "  warn(\n",
            "/usr/local/lib/python3.10/dist-packages/sklearn/ensemble/_forest.py:424: FutureWarning: `max_features='auto'` has been deprecated in 1.1 and will be removed in 1.3. To keep the past behaviour, explicitly set `max_features='sqrt'` or remove this parameter as it is also the default value for RandomForestClassifiers and ExtraTreesClassifiers.\n",
            "  warn(\n",
            "/usr/local/lib/python3.10/dist-packages/sklearn/ensemble/_forest.py:424: FutureWarning: `max_features='auto'` has been deprecated in 1.1 and will be removed in 1.3. To keep the past behaviour, explicitly set `max_features='sqrt'` or remove this parameter as it is also the default value for RandomForestClassifiers and ExtraTreesClassifiers.\n",
            "  warn(\n",
            "/usr/local/lib/python3.10/dist-packages/sklearn/ensemble/_forest.py:424: FutureWarning: `max_features='auto'` has been deprecated in 1.1 and will be removed in 1.3. To keep the past behaviour, explicitly set `max_features='sqrt'` or remove this parameter as it is also the default value for RandomForestClassifiers and ExtraTreesClassifiers.\n",
            "  warn(\n",
            "/usr/local/lib/python3.10/dist-packages/sklearn/ensemble/_forest.py:424: FutureWarning: `max_features='auto'` has been deprecated in 1.1 and will be removed in 1.3. To keep the past behaviour, explicitly set `max_features='sqrt'` or remove this parameter as it is also the default value for RandomForestClassifiers and ExtraTreesClassifiers.\n",
            "  warn(\n",
            "/usr/local/lib/python3.10/dist-packages/sklearn/ensemble/_forest.py:424: FutureWarning: `max_features='auto'` has been deprecated in 1.1 and will be removed in 1.3. To keep the past behaviour, explicitly set `max_features='sqrt'` or remove this parameter as it is also the default value for RandomForestClassifiers and ExtraTreesClassifiers.\n",
            "  warn(\n",
            "/usr/local/lib/python3.10/dist-packages/sklearn/ensemble/_forest.py:424: FutureWarning: `max_features='auto'` has been deprecated in 1.1 and will be removed in 1.3. To keep the past behaviour, explicitly set `max_features='sqrt'` or remove this parameter as it is also the default value for RandomForestClassifiers and ExtraTreesClassifiers.\n",
            "  warn(\n",
            "/usr/local/lib/python3.10/dist-packages/sklearn/ensemble/_forest.py:424: FutureWarning: `max_features='auto'` has been deprecated in 1.1 and will be removed in 1.3. To keep the past behaviour, explicitly set `max_features='sqrt'` or remove this parameter as it is also the default value for RandomForestClassifiers and ExtraTreesClassifiers.\n",
            "  warn(\n",
            "/usr/local/lib/python3.10/dist-packages/sklearn/ensemble/_forest.py:424: FutureWarning: `max_features='auto'` has been deprecated in 1.1 and will be removed in 1.3. To keep the past behaviour, explicitly set `max_features='sqrt'` or remove this parameter as it is also the default value for RandomForestClassifiers and ExtraTreesClassifiers.\n",
            "  warn(\n",
            "/usr/local/lib/python3.10/dist-packages/sklearn/ensemble/_forest.py:424: FutureWarning: `max_features='auto'` has been deprecated in 1.1 and will be removed in 1.3. To keep the past behaviour, explicitly set `max_features='sqrt'` or remove this parameter as it is also the default value for RandomForestClassifiers and ExtraTreesClassifiers.\n",
            "  warn(\n",
            "/usr/local/lib/python3.10/dist-packages/sklearn/ensemble/_forest.py:424: FutureWarning: `max_features='auto'` has been deprecated in 1.1 and will be removed in 1.3. To keep the past behaviour, explicitly set `max_features='sqrt'` or remove this parameter as it is also the default value for RandomForestClassifiers and ExtraTreesClassifiers.\n",
            "  warn(\n"
          ]
        },
        {
          "output_type": "stream",
          "name": "stdout",
          "text": [
            "{'classification__n_estimators': 167}\n",
            "0.936618996559312\n"
          ]
        }
      ]
    },
    {
      "cell_type": "markdown",
      "source": [
        "##7. Regular method with best parameter + Evaluation"
      ],
      "metadata": {
        "id": "6gQtSIQaF7yT"
      }
    },
    {
      "cell_type": "code",
      "source": [
        "# Building random forest (method #1 ) with the best number of trees\n",
        "RF_classifier7 = ensemble.RandomForestClassifier(n_estimators=167, criterion='entropy', max_features='auto', random_state=1)\n",
        "RF_classifier7.fit(x_train,y_train)\n",
        "Y_pred5=RF_classifier7.predict(x_test)\n",
        "imp_features = Series(RF_classifier7.feature_importances_, index=list(x)).sort_values(ascending=False)\n",
        "print(imp_features)"
      ],
      "metadata": {
        "colab": {
          "base_uri": "https://localhost:8080/"
        },
        "id": "NrMezInp7g3v",
        "outputId": "f1b3b6b6-b3de-4bd2-de88-8f3516c7894d"
      },
      "execution_count": null,
      "outputs": [
        {
          "output_type": "stream",
          "name": "stderr",
          "text": [
            "/usr/local/lib/python3.10/dist-packages/sklearn/ensemble/_forest.py:424: FutureWarning: `max_features='auto'` has been deprecated in 1.1 and will be removed in 1.3. To keep the past behaviour, explicitly set `max_features='sqrt'` or remove this parameter as it is also the default value for RandomForestClassifiers and ExtraTreesClassifiers.\n",
            "  warn(\n"
          ]
        },
        {
          "output_type": "stream",
          "name": "stdout",
          "text": [
            "Survival Months                            0.311367\n",
            "Reginol Node Positive                      0.113635\n",
            "Age                                        0.089391\n",
            "Regional Node Examined                     0.086476\n",
            "Tumor Size                                 0.086046\n",
            "Progesterone Status                        0.035835\n",
            "Marital Status_Married                     0.023576\n",
            "N Stage_N1                                 0.020656\n",
            "Marital Status_Single                      0.017321\n",
            "T Stage_T1                                 0.015866\n",
            "T Stage_T2                                 0.014104\n",
            "Grade_3                                    0.012628\n",
            "Race_White                                 0.012126\n",
            "Estrogen Status                            0.011859\n",
            "differentiate_Poorly differentiated        0.011830\n",
            "Marital Status_Divorced                    0.011432\n",
            "6th Stage_IIA                              0.010845\n",
            "Race_Other                                 0.010211\n",
            "Grade_2                                    0.009582\n",
            "differentiate_Moderately differentiated    0.009077\n",
            "N Stage_N3                                 0.008917\n",
            "6th Stage_IIIC                             0.008528\n",
            "Grade_1                                    0.008396\n",
            "differentiate_Well differentiated          0.007809\n",
            "Race_Black                                 0.007732\n",
            "Marital Status_Widowed                     0.006919\n",
            "6th Stage_IIB                              0.006714\n",
            "T Stage_T3                                 0.006300\n",
            "N Stage_N2                                 0.006165\n",
            "6th Stage_IIIA                             0.006149\n",
            "T Stage_T4                                 0.003968\n",
            "Marital Status_Separated                   0.002907\n",
            "6th Stage_IIIB                             0.002233\n",
            "A Stage                                    0.002104\n",
            "differentiate_Undifferentiated             0.000730\n",
            "Grade_ anaplastic; Grade IV                0.000564\n",
            "dtype: float64\n"
          ]
        }
      ]
    },
    {
      "cell_type": "code",
      "source": [
        "recall = metrics.recall_score(y_test, Y_pred5)\n",
        "print (recall)"
      ],
      "metadata": {
        "colab": {
          "base_uri": "https://localhost:8080/"
        },
        "id": "YLXtHPE9DBIO",
        "outputId": "5d163ad6-39d9-45c2-dc73-e85ab8d5a373"
      },
      "execution_count": null,
      "outputs": [
        {
          "output_type": "stream",
          "name": "stdout",
          "text": [
            "0.9402332361516035\n"
          ]
        }
      ]
    },
    {
      "cell_type": "markdown",
      "source": [
        "##8. A balanced GridSearchCV with best features"
      ],
      "metadata": {
        "id": "dK1VLM7KGLc2"
      }
    },
    {
      "cell_type": "code",
      "source": [
        "# # Using pipeline (method #3) using the most important features\n",
        "X3 = data2[['Survival Months', 'Reginol Node Positive','Age','Tumor Size','Regional Node Examined']]\n",
        "X_scaled = StandardScaler().fit_transform(X3)\n",
        "\n",
        "RF_classifier7 = Pipeline([('balancing', SMOTE(random_state = 101)),('classification', ensemble.RandomForestClassifier(criterion='entropy', max_features='auto', random_state=1) )])\n",
        "no_trees = {'classification__n_estimators': [191, 192, 193, 194, 195]}\n",
        "grid_search4 = GridSearchCV(estimator=RF_classifier7, param_grid=no_trees, scoring='recall', cv=5)\n",
        "grid_search4.fit(X_scaled, y)\n",
        "\n",
        "best_parameters = grid_search4.best_params_\n",
        "print(best_parameters)\n",
        "best_result = grid_search4.best_score_\n",
        "print(best_result)"
      ],
      "metadata": {
        "colab": {
          "base_uri": "https://localhost:8080/"
        },
        "id": "2ZXKyqJy70Zd",
        "outputId": "317889df-d4d5-4389-ef27-9a5232227b46"
      },
      "execution_count": null,
      "outputs": [
        {
          "output_type": "stream",
          "name": "stderr",
          "text": [
            "/usr/local/lib/python3.10/dist-packages/sklearn/ensemble/_forest.py:424: FutureWarning: `max_features='auto'` has been deprecated in 1.1 and will be removed in 1.3. To keep the past behaviour, explicitly set `max_features='sqrt'` or remove this parameter as it is also the default value for RandomForestClassifiers and ExtraTreesClassifiers.\n",
            "  warn(\n",
            "/usr/local/lib/python3.10/dist-packages/sklearn/ensemble/_forest.py:424: FutureWarning: `max_features='auto'` has been deprecated in 1.1 and will be removed in 1.3. To keep the past behaviour, explicitly set `max_features='sqrt'` or remove this parameter as it is also the default value for RandomForestClassifiers and ExtraTreesClassifiers.\n",
            "  warn(\n",
            "/usr/local/lib/python3.10/dist-packages/sklearn/ensemble/_forest.py:424: FutureWarning: `max_features='auto'` has been deprecated in 1.1 and will be removed in 1.3. To keep the past behaviour, explicitly set `max_features='sqrt'` or remove this parameter as it is also the default value for RandomForestClassifiers and ExtraTreesClassifiers.\n",
            "  warn(\n",
            "/usr/local/lib/python3.10/dist-packages/sklearn/ensemble/_forest.py:424: FutureWarning: `max_features='auto'` has been deprecated in 1.1 and will be removed in 1.3. To keep the past behaviour, explicitly set `max_features='sqrt'` or remove this parameter as it is also the default value for RandomForestClassifiers and ExtraTreesClassifiers.\n",
            "  warn(\n",
            "/usr/local/lib/python3.10/dist-packages/sklearn/ensemble/_forest.py:424: FutureWarning: `max_features='auto'` has been deprecated in 1.1 and will be removed in 1.3. To keep the past behaviour, explicitly set `max_features='sqrt'` or remove this parameter as it is also the default value for RandomForestClassifiers and ExtraTreesClassifiers.\n",
            "  warn(\n",
            "/usr/local/lib/python3.10/dist-packages/sklearn/ensemble/_forest.py:424: FutureWarning: `max_features='auto'` has been deprecated in 1.1 and will be removed in 1.3. To keep the past behaviour, explicitly set `max_features='sqrt'` or remove this parameter as it is also the default value for RandomForestClassifiers and ExtraTreesClassifiers.\n",
            "  warn(\n",
            "/usr/local/lib/python3.10/dist-packages/sklearn/ensemble/_forest.py:424: FutureWarning: `max_features='auto'` has been deprecated in 1.1 and will be removed in 1.3. To keep the past behaviour, explicitly set `max_features='sqrt'` or remove this parameter as it is also the default value for RandomForestClassifiers and ExtraTreesClassifiers.\n",
            "  warn(\n",
            "/usr/local/lib/python3.10/dist-packages/sklearn/ensemble/_forest.py:424: FutureWarning: `max_features='auto'` has been deprecated in 1.1 and will be removed in 1.3. To keep the past behaviour, explicitly set `max_features='sqrt'` or remove this parameter as it is also the default value for RandomForestClassifiers and ExtraTreesClassifiers.\n",
            "  warn(\n",
            "/usr/local/lib/python3.10/dist-packages/sklearn/ensemble/_forest.py:424: FutureWarning: `max_features='auto'` has been deprecated in 1.1 and will be removed in 1.3. To keep the past behaviour, explicitly set `max_features='sqrt'` or remove this parameter as it is also the default value for RandomForestClassifiers and ExtraTreesClassifiers.\n",
            "  warn(\n",
            "/usr/local/lib/python3.10/dist-packages/sklearn/ensemble/_forest.py:424: FutureWarning: `max_features='auto'` has been deprecated in 1.1 and will be removed in 1.3. To keep the past behaviour, explicitly set `max_features='sqrt'` or remove this parameter as it is also the default value for RandomForestClassifiers and ExtraTreesClassifiers.\n",
            "  warn(\n",
            "/usr/local/lib/python3.10/dist-packages/sklearn/ensemble/_forest.py:424: FutureWarning: `max_features='auto'` has been deprecated in 1.1 and will be removed in 1.3. To keep the past behaviour, explicitly set `max_features='sqrt'` or remove this parameter as it is also the default value for RandomForestClassifiers and ExtraTreesClassifiers.\n",
            "  warn(\n",
            "/usr/local/lib/python3.10/dist-packages/sklearn/ensemble/_forest.py:424: FutureWarning: `max_features='auto'` has been deprecated in 1.1 and will be removed in 1.3. To keep the past behaviour, explicitly set `max_features='sqrt'` or remove this parameter as it is also the default value for RandomForestClassifiers and ExtraTreesClassifiers.\n",
            "  warn(\n",
            "/usr/local/lib/python3.10/dist-packages/sklearn/ensemble/_forest.py:424: FutureWarning: `max_features='auto'` has been deprecated in 1.1 and will be removed in 1.3. To keep the past behaviour, explicitly set `max_features='sqrt'` or remove this parameter as it is also the default value for RandomForestClassifiers and ExtraTreesClassifiers.\n",
            "  warn(\n",
            "/usr/local/lib/python3.10/dist-packages/sklearn/ensemble/_forest.py:424: FutureWarning: `max_features='auto'` has been deprecated in 1.1 and will be removed in 1.3. To keep the past behaviour, explicitly set `max_features='sqrt'` or remove this parameter as it is also the default value for RandomForestClassifiers and ExtraTreesClassifiers.\n",
            "  warn(\n",
            "/usr/local/lib/python3.10/dist-packages/sklearn/ensemble/_forest.py:424: FutureWarning: `max_features='auto'` has been deprecated in 1.1 and will be removed in 1.3. To keep the past behaviour, explicitly set `max_features='sqrt'` or remove this parameter as it is also the default value for RandomForestClassifiers and ExtraTreesClassifiers.\n",
            "  warn(\n",
            "/usr/local/lib/python3.10/dist-packages/sklearn/ensemble/_forest.py:424: FutureWarning: `max_features='auto'` has been deprecated in 1.1 and will be removed in 1.3. To keep the past behaviour, explicitly set `max_features='sqrt'` or remove this parameter as it is also the default value for RandomForestClassifiers and ExtraTreesClassifiers.\n",
            "  warn(\n",
            "/usr/local/lib/python3.10/dist-packages/sklearn/ensemble/_forest.py:424: FutureWarning: `max_features='auto'` has been deprecated in 1.1 and will be removed in 1.3. To keep the past behaviour, explicitly set `max_features='sqrt'` or remove this parameter as it is also the default value for RandomForestClassifiers and ExtraTreesClassifiers.\n",
            "  warn(\n",
            "/usr/local/lib/python3.10/dist-packages/sklearn/ensemble/_forest.py:424: FutureWarning: `max_features='auto'` has been deprecated in 1.1 and will be removed in 1.3. To keep the past behaviour, explicitly set `max_features='sqrt'` or remove this parameter as it is also the default value for RandomForestClassifiers and ExtraTreesClassifiers.\n",
            "  warn(\n",
            "/usr/local/lib/python3.10/dist-packages/sklearn/ensemble/_forest.py:424: FutureWarning: `max_features='auto'` has been deprecated in 1.1 and will be removed in 1.3. To keep the past behaviour, explicitly set `max_features='sqrt'` or remove this parameter as it is also the default value for RandomForestClassifiers and ExtraTreesClassifiers.\n",
            "  warn(\n",
            "/usr/local/lib/python3.10/dist-packages/sklearn/ensemble/_forest.py:424: FutureWarning: `max_features='auto'` has been deprecated in 1.1 and will be removed in 1.3. To keep the past behaviour, explicitly set `max_features='sqrt'` or remove this parameter as it is also the default value for RandomForestClassifiers and ExtraTreesClassifiers.\n",
            "  warn(\n",
            "/usr/local/lib/python3.10/dist-packages/sklearn/ensemble/_forest.py:424: FutureWarning: `max_features='auto'` has been deprecated in 1.1 and will be removed in 1.3. To keep the past behaviour, explicitly set `max_features='sqrt'` or remove this parameter as it is also the default value for RandomForestClassifiers and ExtraTreesClassifiers.\n",
            "  warn(\n",
            "/usr/local/lib/python3.10/dist-packages/sklearn/ensemble/_forest.py:424: FutureWarning: `max_features='auto'` has been deprecated in 1.1 and will be removed in 1.3. To keep the past behaviour, explicitly set `max_features='sqrt'` or remove this parameter as it is also the default value for RandomForestClassifiers and ExtraTreesClassifiers.\n",
            "  warn(\n",
            "/usr/local/lib/python3.10/dist-packages/sklearn/ensemble/_forest.py:424: FutureWarning: `max_features='auto'` has been deprecated in 1.1 and will be removed in 1.3. To keep the past behaviour, explicitly set `max_features='sqrt'` or remove this parameter as it is also the default value for RandomForestClassifiers and ExtraTreesClassifiers.\n",
            "  warn(\n",
            "/usr/local/lib/python3.10/dist-packages/sklearn/ensemble/_forest.py:424: FutureWarning: `max_features='auto'` has been deprecated in 1.1 and will be removed in 1.3. To keep the past behaviour, explicitly set `max_features='sqrt'` or remove this parameter as it is also the default value for RandomForestClassifiers and ExtraTreesClassifiers.\n",
            "  warn(\n",
            "/usr/local/lib/python3.10/dist-packages/sklearn/ensemble/_forest.py:424: FutureWarning: `max_features='auto'` has been deprecated in 1.1 and will be removed in 1.3. To keep the past behaviour, explicitly set `max_features='sqrt'` or remove this parameter as it is also the default value for RandomForestClassifiers and ExtraTreesClassifiers.\n",
            "  warn(\n",
            "/usr/local/lib/python3.10/dist-packages/sklearn/ensemble/_forest.py:424: FutureWarning: `max_features='auto'` has been deprecated in 1.1 and will be removed in 1.3. To keep the past behaviour, explicitly set `max_features='sqrt'` or remove this parameter as it is also the default value for RandomForestClassifiers and ExtraTreesClassifiers.\n",
            "  warn(\n"
          ]
        },
        {
          "output_type": "stream",
          "name": "stdout",
          "text": [
            "{'classification__n_estimators': 193}\n",
            "0.9339784084988008\n"
          ]
        }
      ]
    },
    {
      "cell_type": "markdown",
      "source": [
        "##9. Regular method with best parameter and best features + Evaluation"
      ],
      "metadata": {
        "id": "fOx5RRJgGPOa"
      }
    },
    {
      "cell_type": "code",
      "source": [
        "RF_classifier8 = ensemble.RandomForestClassifier(n_estimators=193, criterion='entropy', max_features='auto', random_state=1)\n",
        "RF_classifier8.fit(x_train,y_train)\n",
        "Y_pred8=RF_classifier8.predict(x_test)\n",
        "imp_features = Series(RF_classifier8.feature_importances_, index=list(x)).sort_values(ascending=False)\n",
        "print(imp_features)\n"
      ],
      "metadata": {
        "colab": {
          "base_uri": "https://localhost:8080/"
        },
        "id": "OGuUNA0G-Yd_",
        "outputId": "dec37145-5fcd-40c5-bae4-888f12d170d2"
      },
      "execution_count": null,
      "outputs": [
        {
          "output_type": "stream",
          "name": "stderr",
          "text": [
            "/usr/local/lib/python3.10/dist-packages/sklearn/ensemble/_forest.py:424: FutureWarning: `max_features='auto'` has been deprecated in 1.1 and will be removed in 1.3. To keep the past behaviour, explicitly set `max_features='sqrt'` or remove this parameter as it is also the default value for RandomForestClassifiers and ExtraTreesClassifiers.\n",
            "  warn(\n"
          ]
        },
        {
          "output_type": "stream",
          "name": "stdout",
          "text": [
            "Survival Months                            0.310597\n",
            "Reginol Node Positive                      0.113613\n",
            "Age                                        0.089165\n",
            "Regional Node Examined                     0.087057\n",
            "Tumor Size                                 0.085630\n",
            "Progesterone Status                        0.035590\n",
            "Marital Status_Married                     0.023568\n",
            "N Stage_N1                                 0.020583\n",
            "Marital Status_Single                      0.017110\n",
            "T Stage_T1                                 0.015491\n",
            "T Stage_T2                                 0.014121\n",
            "Grade_3                                    0.013022\n",
            "Estrogen Status                            0.012174\n",
            "Race_White                                 0.012116\n",
            "differentiate_Poorly differentiated        0.011782\n",
            "Marital Status_Divorced                    0.011619\n",
            "6th Stage_IIA                              0.011380\n",
            "Race_Other                                 0.010281\n",
            "N Stage_N3                                 0.010234\n",
            "Grade_2                                    0.009428\n",
            "differentiate_Moderately differentiated    0.009235\n",
            "Grade_1                                    0.008144\n",
            "differentiate_Well differentiated          0.007950\n",
            "6th Stage_IIIC                             0.007717\n",
            "Race_Black                                 0.007649\n",
            "Marital Status_Widowed                     0.006934\n",
            "6th Stage_IIB                              0.006567\n",
            "T Stage_T3                                 0.006328\n",
            "N Stage_N2                                 0.006258\n",
            "6th Stage_IIIA                             0.006090\n",
            "T Stage_T4                                 0.003961\n",
            "Marital Status_Separated                   0.002935\n",
            "6th Stage_IIIB                             0.002165\n",
            "A Stage                                    0.002107\n",
            "differentiate_Undifferentiated             0.000719\n",
            "Grade_ anaplastic; Grade IV                0.000678\n",
            "dtype: float64\n"
          ]
        }
      ]
    },
    {
      "cell_type": "code",
      "source": [
        "recall = metrics.recall_score(y_test, Y_pred8)\n",
        "print (recall)"
      ],
      "metadata": {
        "colab": {
          "base_uri": "https://localhost:8080/"
        },
        "id": "xhYutBZE_paZ",
        "outputId": "2332401a-6c3c-49f8-ae5e-a0a24d987f3e"
      },
      "execution_count": null,
      "outputs": [
        {
          "output_type": "stream",
          "name": "stdout",
          "text": [
            "0.9402332361516035\n"
          ]
        }
      ]
    },
    {
      "cell_type": "markdown",
      "source": [
        "##10. Reasoning behind choice of Evaluation Metric"
      ],
      "metadata": {
        "id": "zE7ABw7mRIA1"
      }
    },
    {
      "cell_type": "markdown",
      "source": [
        "Evaluation Metric: Recall<br>\n",
        "<br>\n",
        "The target feature, i.e. Dead/Alive, was encoded as follows: 'Dead':0, 'Alive':1 <br>\n",
        "<br>\n",
        "It is preferrable to eliminate false negatives, i.e. incorrectly predict that a person will die when in fact they will survive. <br>\n",
        "<br>\n",
        "Hence, the model was tuned such that the recall is maximized and most number of survivors are correctly identified."
      ],
      "metadata": {
        "id": "fcq2GuwVAmO8"
      }
    }
  ]
}